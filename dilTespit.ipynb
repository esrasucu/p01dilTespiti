{
  "nbformat": 4,
  "nbformat_minor": 0,
  "metadata": {
    "colab": {
      "provenance": [],
      "authorship_tag": "ABX9TyMHJX2a8n+NVa30ia2OTg3Z",
      "include_colab_link": true
    },
    "kernelspec": {
      "name": "python3",
      "display_name": "Python 3"
    },
    "language_info": {
      "name": "python"
    }
  },
  "cells": [
    {
      "cell_type": "markdown",
      "metadata": {
        "id": "view-in-github",
        "colab_type": "text"
      },
      "source": [
        "<a href=\"https://colab.research.google.com/github/esrasucu/p01dilTespiti/blob/main/dilTespit.ipynb\" target=\"_parent\"><img src=\"https://colab.research.google.com/assets/colab-badge.svg\" alt=\"Open In Colab\"/></a>"
      ]
    },
    {
      "cell_type": "code",
      "execution_count": null,
      "metadata": {
        "id": "G2J4W680n6qH"
      },
      "outputs": [],
      "source": [
        "##kütüphanesiz dil tespiti##"
      ]
    },
    {
      "cell_type": "code",
      "source": [
        "#dil özellikleri için örnek kelimeler\n",
        "\n",
        "turkce_kelimeler = { \"bir\",\"ve\",\"bu\",\"için\",\"o\",\"ben\",\"çok\",\"şey\",\"var\",\"yok\",\"az\",\"hepsi\",\"daha\",\"de\",\"ile\",\"ise\",\"kendi\",\"ama\",\"kadar\",\"zaman\",\"iş\",\"değil\",\"büyük\",\"göre\",\"veya\",\"tüm\",\"vermek\",\"bile\",\"yani\",\"sen\",\"ayrıca\",\"fakat\",\"yüzde\",\"hatta\",\"aslında\",\"belki\",\"az\",\"bazı\",\"baba\",\"anne\",\"bir\",\"demek\",\"çok\",\"yapmak\",\"kendi\",\"gelmek\",\"en\",\"gün\",\"görmek\",\"ki\",\"iş\",\"hiç\",\"böyle\",\"hem\",\"ses\",\"yaş\",\"işte\" }\n",
        "ingilizce_kelimeler = {\"and\",\"it\",\"the\",\"be\",\"the\",\"of\",\"so\",\"up\",\"out\",\"if\",\"about\",\"who\",\"get\",\"which\",\"go\",\"me\",\"when\",\"or\",\"an\",\"will\",\"my\",\"one\",\"all\",\"would\",\"their\",\"what\",\"it\",\"for\",\"not\",\"on\",\"with\",\"he\",\"she\",\"as\",\"you\",\"do\",\"at\",\"I\",\"have\",\"that\",\"in\",\"a\",\"because\",\"are\",\"has\",\"did\",\"had\",\"does\",\"should\",\"its\",\"than\",\"still\",\"see\",\"here\",\"might\",\"must\",\"even\",\"people\" }\n",
        "almanca_kelimeler = {\"ich\",\"du\",\"er\",\"es\",\"sie\",\"wir\",\"ihr\",\"mich\",\"dich\",\"sich\",\"mein\",\"dein\",\"kein\",\"wie\",\"wo\",\"was\",\"in\",\"auf\",\"von\",\"mit\",\"zu\",\"nach\",\"aber\",\"oder\",\"dass\",\"wenn\",\"haben\",\"werden\",\"denken\",\"sagen\",\"finden\",\"geben\",\"sehen\",\"mögen\",\"kommen\",\"dürfen\",\"wollen\",\"nicht\",\"sehr\",\"auch\",\"immer\",\"da\",\"lang\",\"nochmal\",\"immer\",\"sich\",\"viel\",\"heute\",\"viel\",\"ja\",\"hat\",\"alle\",\"als\",\"gute\" }\n",
        "fransızca_kelimeler = { \"et\",\"mais\",\"que\",\"de\",\"à\",\"dans\",\"pour\",\"est\",\"sont\",\"ce\",\"salut\",\"amour\",\"bonjour\",\"merci\",\"avoir\",\"je\",\"ne\",\"que\",\"vous\",\"dans\",\"la\",\"le\",\"un\",\"une\",\"pour\",\"pas\",\"qui\",\"se\",\"plus\",\"faire\",\"son\",\"tout\",\"avec\", \"mais\",\"comme\",\"si\",\"ou\",\"sur\",\"nous\",\"du\",\"des\",\"ils\",\"elles\",\"lui\",\"mon\",\"ma\",\"mes\",\"aussi\",\"bien\",\"leur\",\"y\",\"aller\",\"dire\",\"savoir\",\"vouloir\",}\n",
        "ispanyolca_kelimeler = { \"y\",\"pero\",\"que\",\"de\",\"a\",\"en\",\"para\",\"es\",\"son\",\"este\",\"como\",\"de\",\"la\",\"el\",\"una\",\"ser\",\"estar\",\"haber\",\"tener\",\"yo\",\"ella\",\"usted\",\"nosotros\",\"nosotras\",\"vosotras\",\"ustedes\",\"ellos\",\"mi\",\"su\",\"tu\",\"se\",\"nuestra\",\"ese\",\"aquel\",\"todo\",\"muy\",\"mas\",\"pero\",\"como\",\"si\",\"o\",\"porque\",\"con\",\"para\",\"sin\",\"sobre\",\"entre\"}\n"
      ],
      "metadata": {
        "id": "08vP08TGsuDL"
      },
      "execution_count": null,
      "outputs": []
    },
    {
      "cell_type": "code",
      "source": [
        "dil_sozlukleri = {\n",
        "    \"Türkçe\": turkce_kelimeler,\n",
        "    \"İngilizce\": ingilizce_kelimeler,\n",
        "    \"Almanca\": almanca_kelimeler,\n",
        "    \"Fransızca\": fransızca_kelimeler,\n",
        "    \"İspanyolca\": ispanyolca_kelimeler }"
      ],
      "metadata": {
        "id": "8ElYjgki2QS0"
      },
      "execution_count": null,
      "outputs": []
    },
    {
      "cell_type": "code",
      "source": [
        "def duzenle(metin):\n",
        "  metin = metin.lower()\n",
        "  words = \"\"\n",
        "  for char in metin:\n",
        "    if char.isalpha() or char.isspace():\n",
        "      words =+ char\n",
        "    else:\n",
        "      words =+ \" \"\n",
        "  words = words.split()\n",
        "  return words\n",
        "\n",
        "\n",
        "def benzerlik(words):\n",
        "  dil_skorlari ={}\n",
        "  for dil in dil_sozlukleri:\n",
        "    dil_skorlari[dil] = 0\n",
        "    for kelime in words:\n",
        "      if kelime in dil_sozlukleri[dil]:\n",
        "        dil_skorlari[dil] += 1\n",
        "    dil_skorlari[dil] = skor / len(dil_sozlukleri)\n",
        "  return dil_skorlari\n",
        "\n",
        "\n",
        "\n",
        "metin = input(\"Metin giriniz:\")\n",
        "words = duzenle(metin)\n",
        "dil_skorlari = benzerlik(words)\n",
        "return dil_skorlari\n",
        "\n",
        "\n"
      ],
      "metadata": {
        "id": "Joc-a1K42mYb"
      },
      "execution_count": null,
      "outputs": []
    }
  ]
}